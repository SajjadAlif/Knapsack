{
 "cells": [
  {
   "cell_type": "code",
   "execution_count": 7,
   "id": "dfc29439",
   "metadata": {},
   "outputs": [
    {
     "name": "stdout",
     "output_type": "stream",
     "text": [
      "500\n"
     ]
    }
   ],
   "source": [
    "def knapsack (W, wt,val):\n",
    "    n= len(val)\n",
    "    table = [[0 for x in range (W+1)] for x in range (n+1)]\n",
    "    for i in range (n+1):\n",
    "        for j in range (W+1):\n",
    "            if i== 0 or j ==0:\n",
    "                table[i][j]=0\n",
    "            elif wt[i-1]<=j:\n",
    "                table [i][j]= max (val[i-1] + table [i-1][j-wt[i-1]], table [i-1][j])\n",
    "            else:\n",
    "                table [i][j] = table [i-1][j]\n",
    "    return table [n][W]\n",
    "val = [50,100,150,200]\n",
    "wt = [8,16,32,40]\n",
    "W= 128\n",
    "print(knapsack(W,wt,val))"
   ]
  },
  {
   "cell_type": "code",
   "execution_count": null,
   "id": "07b82250",
   "metadata": {},
   "outputs": [],
   "source": []
  }
 ],
 "metadata": {
  "kernelspec": {
   "display_name": "Python 3 (ipykernel)",
   "language": "python",
   "name": "python3"
  },
  "language_info": {
   "codemirror_mode": {
    "name": "ipython",
    "version": 3
   },
   "file_extension": ".py",
   "mimetype": "text/x-python",
   "name": "python",
   "nbconvert_exporter": "python",
   "pygments_lexer": "ipython3",
   "version": "3.11.2"
  }
 },
 "nbformat": 4,
 "nbformat_minor": 5
}
